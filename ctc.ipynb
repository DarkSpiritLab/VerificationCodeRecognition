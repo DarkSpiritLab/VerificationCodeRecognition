{
 "cells": [
  {
   "cell_type": "markdown",
   "metadata": {},
   "source": [
    "# 导入必要的库\n",
    "\n",
    "我们需要导入一个叫 [captcha](https://github.com/lepture/captcha/) 的库来生成验证码。\n",
    "\n",
    "我们生成验证码的字符由数字和大写字母组成。"
   ]
  },
  {
   "cell_type": "code",
   "execution_count": 1,
   "metadata": {},
   "outputs": [
    {
     "name": "stdout",
     "output_type": "stream",
     "text": [
      "0123456789ABCDEFGHIJKLMNOPQRSTUVWXYZ\n"
     ]
    }
   ],
   "source": [
    "from captcha.image import ImageCaptcha\n",
    "import matplotlib.pyplot as plt\n",
    "import numpy as np\n",
    "import random\n",
    "\n",
    "%matplotlib inline\n",
    "%config InlineBackend.figure_format = 'retina'\n",
    "\n",
    "import string\n",
    "characters = string.digits + string.ascii_uppercase\n",
    "print(characters)\n",
    "\n",
    "width, height, n_len, n_class = 170, 80, 4, len(characters)+1"
   ]
  },
  {
   "cell_type": "markdown",
   "metadata": {},
   "source": [
    "# 定义 CTC Loss"
   ]
  },
  {
   "cell_type": "code",
   "execution_count": 2,
   "metadata": {},
   "outputs": [
    {
     "name": "stderr",
     "output_type": "stream",
     "text": [
      "Using TensorFlow backend.\n"
     ]
    }
   ],
   "source": [
    "from keras import backend as K\n",
    "\n",
    "def ctc_lambda_func(args):\n",
    "    y_pred, labels, input_length, label_length = args\n",
    "    y_pred = y_pred[:, 2:, :]\n",
    "    return K.ctc_batch_cost(labels, y_pred, input_length, label_length)"
   ]
  },
  {
   "cell_type": "markdown",
   "metadata": {},
   "source": [
    "# 定义网络结构"
   ]
  },
  {
   "cell_type": "code",
   "execution_count": 3,
   "metadata": {},
   "outputs": [
    {
     "name": "stderr",
     "output_type": "stream",
     "text": [
      "/usr/local/lib/python3.5/dist-packages/ipykernel_launcher.py:8: UserWarning: Update your `Conv2D` call to the Keras 2 API: `Conv2D(32, (3, 3), activation=\"relu\")`\n",
      "  \n",
      "/usr/local/lib/python3.5/dist-packages/ipykernel_launcher.py:9: UserWarning: Update your `Conv2D` call to the Keras 2 API: `Conv2D(32, (3, 3), activation=\"relu\")`\n",
      "  if __name__ == '__main__':\n",
      "/usr/local/lib/python3.5/dist-packages/ipykernel_launcher.py:17: UserWarning: Update your `GRU` call to the Keras 2 API: `GRU(128, name=\"gru1\", return_sequences=True, kernel_initializer=\"he_normal\")`\n",
      "/usr/local/lib/python3.5/dist-packages/ipykernel_launcher.py:18: UserWarning: Update your `GRU` call to the Keras 2 API: `GRU(128, name=\"gru1_b\", return_sequences=True, kernel_initializer=\"he_normal\", go_backwards=True)`\n",
      "/usr/local/lib/python3.5/dist-packages/ipykernel_launcher.py:19: UserWarning: The `merge` function is deprecated and will be removed after 08/2017. Use instead layers from `keras.layers.merge`, e.g. `add`, `concatenate`, etc.\n",
      "/usr/local/lib/python3.5/dist-packages/keras/legacy/layers.py:464: UserWarning: The `Merge` layer is deprecated and will be removed after 08/2017. Use instead layers from `keras.layers.merge`, e.g. `add`, `concatenate`, etc.\n",
      "  name=name)\n",
      "/usr/local/lib/python3.5/dist-packages/ipykernel_launcher.py:21: UserWarning: Update your `GRU` call to the Keras 2 API: `GRU(128, name=\"gru2\", return_sequences=True, kernel_initializer=\"he_normal\")`\n",
      "/usr/local/lib/python3.5/dist-packages/ipykernel_launcher.py:22: UserWarning: Update your `GRU` call to the Keras 2 API: `GRU(128, name=\"gru2_b\", return_sequences=True, kernel_initializer=\"he_normal\", go_backwards=True)`\n",
      "/usr/local/lib/python3.5/dist-packages/ipykernel_launcher.py:23: UserWarning: The `merge` function is deprecated and will be removed after 08/2017. Use instead layers from `keras.layers.merge`, e.g. `add`, `concatenate`, etc.\n",
      "/usr/local/lib/python3.5/dist-packages/ipykernel_launcher.py:25: UserWarning: Update your `Dense` call to the Keras 2 API: `Dense(37, kernel_initializer=\"he_normal\", activation=\"softmax\")`\n",
      "/usr/local/lib/python3.5/dist-packages/ipykernel_launcher.py:26: UserWarning: Update your `Model` call to the Keras 2 API: `Model(inputs=Tensor(\"in..., outputs=Tensor(\"de...)`\n",
      "/usr/local/lib/python3.5/dist-packages/ipykernel_launcher.py:33: UserWarning: Update your `Model` call to the Keras 2 API: `Model(inputs=[<tf.Tenso..., outputs=[<tf.Tenso...)`\n"
     ]
    }
   ],
   "source": [
    "from keras.models import *\n",
    "from keras.layers import *\n",
    "rnn_size = 128\n",
    "\n",
    "input_tensor = Input((width, height, 3))\n",
    "x = input_tensor\n",
    "for i in range(3):\n",
    "    x = Convolution2D(32, (3, 3), activation='relu')(x)\n",
    "    x = Convolution2D(32, (3, 3), activation='relu')(x)\n",
    "    x = MaxPooling2D(pool_size=(2, 2))(x)\n",
    "\n",
    "conv_shape = x.get_shape()\n",
    "x = Reshape(target_shape=(int(conv_shape[1]), int(conv_shape[2]*conv_shape[3])))(x)\n",
    "\n",
    "x = Dense(32, activation='relu')(x)\n",
    "\n",
    "gru_1 = GRU(rnn_size, return_sequences=True, init='he_normal', name='gru1')(x)\n",
    "gru_1b = GRU(rnn_size, return_sequences=True, go_backwards=True, init='he_normal', name='gru1_b')(x)\n",
    "gru1_merged = merge([gru_1, gru_1b], mode='sum')\n",
    "\n",
    "gru_2 = GRU(rnn_size, return_sequences=True, init='he_normal', name='gru2')(gru1_merged)\n",
    "gru_2b = GRU(rnn_size, return_sequences=True, go_backwards=True, init='he_normal', name='gru2_b')(gru1_merged)\n",
    "x = merge([gru_2, gru_2b], mode='concat')\n",
    "x = Dropout(0.25)(x)\n",
    "x = Dense(n_class, init='he_normal', activation='softmax')(x)\n",
    "base_model = Model(input=input_tensor, output=x)\n",
    "\n",
    "labels = Input(name='the_labels', shape=[n_len], dtype='float32')\n",
    "input_length = Input(name='input_length', shape=[1], dtype='int64')\n",
    "label_length = Input(name='label_length', shape=[1], dtype='int64')\n",
    "loss_out = Lambda(ctc_lambda_func, output_shape=(1,), name='ctc')([x, labels, input_length, label_length])\n",
    "\n",
    "model = Model(input=[input_tensor, labels, input_length, label_length], output=[loss_out])\n",
    "model.compile(loss={'ctc': lambda y_true, y_pred: y_pred}, optimizer='adadelta')"
   ]
  },
  {
   "cell_type": "markdown",
   "metadata": {},
   "source": [
    "# 网络结构可视化"
   ]
  },
  {
   "cell_type": "code",
   "execution_count": 4,
   "metadata": {
    "scrolled": false
   },
   "outputs": [
    {
     "ename": "ImportError",
     "evalue": "No module named 'keras.utils.visualize_util'",
     "traceback": [
      "\u001b[0;31m---------------------------------------------------------------------------\u001b[0m",
      "\u001b[0;31mImportError\u001b[0m                               Traceback (most recent call last)",
      "\u001b[0;32m<ipython-input-4-ffadea30e7e1>\u001b[0m in \u001b[0;36m<module>\u001b[0;34m()\u001b[0m\n\u001b[1;32m      1\u001b[0m \u001b[0;32mfrom\u001b[0m \u001b[0mIPython\u001b[0m\u001b[0;34m.\u001b[0m\u001b[0mdisplay\u001b[0m \u001b[0;32mimport\u001b[0m \u001b[0mSVG\u001b[0m\u001b[0;34m,\u001b[0m \u001b[0mImage\u001b[0m\u001b[0;34m\u001b[0m\u001b[0m\n\u001b[0;32m----> 2\u001b[0;31m \u001b[0;32mfrom\u001b[0m \u001b[0mkeras\u001b[0m\u001b[0;34m.\u001b[0m\u001b[0mutils\u001b[0m\u001b[0;34m.\u001b[0m\u001b[0mvisualize_util\u001b[0m \u001b[0;32mimport\u001b[0m \u001b[0mplot\u001b[0m\u001b[0;34m,\u001b[0m \u001b[0mmodel_to_dot\u001b[0m\u001b[0;34m\u001b[0m\u001b[0m\n\u001b[0m\u001b[1;32m      3\u001b[0m \u001b[0;34m\u001b[0m\u001b[0m\n\u001b[1;32m      4\u001b[0m \u001b[0mplot\u001b[0m\u001b[0;34m(\u001b[0m\u001b[0mmodel\u001b[0m\u001b[0;34m,\u001b[0m \u001b[0mshow_shapes\u001b[0m\u001b[0;34m=\u001b[0m\u001b[0;32mTrue\u001b[0m\u001b[0;34m)\u001b[0m\u001b[0;34m\u001b[0m\u001b[0m\n\u001b[1;32m      5\u001b[0m \u001b[0mImage\u001b[0m\u001b[0;34m(\u001b[0m\u001b[0;34m'model.png'\u001b[0m\u001b[0;34m)\u001b[0m\u001b[0;34m\u001b[0m\u001b[0m\n",
      "\u001b[0;31mImportError\u001b[0m: No module named 'keras.utils.visualize_util'"
     ],
     "output_type": "error"
    }
   ],
   "source": [
    "from IPython.display import SVG, Image\n",
    "from keras.utils.visualize_util import plot, model_to_dot\n",
    "\n",
    "plot(model, show_shapes=True)\n",
    "Image('model.png')\n",
    "# SVG(model_to_dot(model, show_shapes=True).create(prog='dot', format='svg'))"
   ]
  },
  {
   "cell_type": "markdown",
   "metadata": {},
   "source": [
    "# 导入权值\n",
    "\n",
    "这是之前跑好了的模型"
   ]
  },
  {
   "cell_type": "code",
   "execution_count": 4,
   "metadata": {},
   "outputs": [],
   "source": [
    " model.load_weights('model.h5')"
   ]
  },
  {
   "cell_type": "markdown",
   "metadata": {},
   "source": [
    "# 定义数据生成器"
   ]
  },
  {
   "cell_type": "code",
   "execution_count": 20,
   "metadata": {},
   "outputs": [],
   "source": [
    "def gen(batch_size=128):\n",
    "    X = np.zeros((batch_size, width, height, 3), dtype=np.uint8)\n",
    "    y = np.zeros((batch_size, n_len), dtype=np.uint8)\n",
    "    while True:\n",
    "        generator = ImageCaptcha(width=width, height=height)\n",
    "        for i in range(batch_size):\n",
    "            random_str = ''.join([random.choice(characters) for j in range(4)])\n",
    "            X[i] = np.array(generator.generate_image(random_str)).transpose(1, 0, 2)\n",
    "            y[i] = [characters.find(x) for x in random_str]\n",
    "        yield [X, y, np.ones(batch_size)*int(conv_shape[1]-2), np.ones(batch_size)*n_len], np.ones(batch_size)"
   ]
  },
  {
   "cell_type": "markdown",
   "metadata": {
    "collapsed": true
   },
   "source": [
    "# 测试生成器"
   ]
  },
  {
   "cell_type": "code",
   "execution_count": 28,
   "metadata": {},
   "outputs": [
    {
     "data": {
      "text/plain": [
       "Text(0.5,1,'49X1')"
      ]
     },
     "execution_count": 28,
     "metadata": {},
     "output_type": "execute_result"
    },
    {
     "data": {
      "image/png": "[encoded data removed]",
      "text/plain": [
       "<matplotlib.figure.Figure at 0x7f89d2f27160>"
      ]
     },
     "metadata": {
      "image/png": {
       "height": 203.0,
       "width": 370.0
      }
     },
     "output_type": "display_data"
    }
   ],
   "source": [
    "[X_test, y_test, _, _], _  = next(gen(1))\n",
    "plt.imshow(X_test[0].transpose(1, 0, 2))\n",
    "plt.title(''.join([characters[x] for x in y_test[0]]))"
   ]
  },
  {
   "cell_type": "markdown",
   "metadata": {},
   "source": [
    "# 训练模型"
   ]
  },
  {
   "cell_type": "code",
   "execution_count": 7,
   "metadata": {},
   "outputs": [],
   "source": [
    "def evaluate(model, batch_num=10):\n",
    "    batch_acc = 0\n",
    "    generator = gen(128)\n",
    "    for i in range(batch_num):\n",
    "        [X_test, y_test, _, _], _  = next(generator)\n",
    "        y_pred = base_model.predict(X_test)\n",
    "        shape = y_pred[:,2:,:].shape\n",
    "        out = K.get_value(K.ctc_decode(y_pred[:,2:,:], input_length=np.ones(shape[0])*shape[1])[0][0])[:, :4]\n",
    "        if out.shape[1] == 4:\n",
    "            batch_acc += ((y_test == out).sum(axis=1) == 4).mean()\n",
    "    return batch_acc / batch_num"
   ]
  },
  {
   "cell_type": "code",
   "execution_count": 14,
   "metadata": {},
   "outputs": [],
   "source": [
    "from keras.callbacks import *\n",
    "\n",
    "class Evaluate(Callback):\n",
    "    def __init__(self):\n",
    "        self.accs = []\n",
    "    \n",
    "    def on_epoch_end(self, epoch, logs=None):\n",
    "        acc = evaluate(base_model)*100\n",
    "        self.accs.append(acc)\n",
    "        print\n",
    "        print('acc: %f%%'%acc)\n",
    "\n",
    "evaluator = Evaluate()"
   ]
  },
  {
   "cell_type": "code",
   "execution_count": null,
   "metadata": {
    "scrolled": false
   },
   "outputs": [
    {
     "name": "stderr",
     "output_type": "stream",
     "text": [
      "/usr/local/lib/python3.5/dist-packages/ipykernel_launcher.py:3: UserWarning: The semantics of the Keras 2 argument `steps_per_epoch` is not the same as the Keras 1 argument `samples_per_epoch`. `steps_per_epoch` is the number of batches to draw from the generator at each epoch. Basically steps_per_epoch = samples_per_epoch/batch_size. Similarly `nb_val_samples`->`validation_steps` and `val_samples`->`steps` arguments have changed. Update your method calls accordingly.\n",
      "  This is separate from the ipykernel package so we can avoid doing imports until\n",
      "/usr/local/lib/python3.5/dist-packages/ipykernel_launcher.py:3: UserWarning: Update your `fit_generator` call to the Keras 2 API: `fit_generator(<generator..., steps_per_epoch=51200, validation_data=<generator..., callbacks=[<keras.ca..., epochs=10, validation_steps=1280)`\n",
      "  This is separate from the ipykernel package so we can avoid doing imports until\n"
     ]
    },
    {
     "name": "stdout",
     "output_type": "stream",
     "text": [
      "Epoch 1/10\n",
      "   18/51200 [..............................] - ETA: 124:41:12 - loss: 3.8597"
     ]
    }
   ],
   "source": [
    "model.fit_generator(gen(128), samples_per_epoch=51200, nb_epoch=10,\n",
    "                    callbacks=[EarlyStopping(patience=10), evaluator],\n",
    "                    validation_data=gen(), nb_val_samples=1280)"
   ]
  },
  {
   "cell_type": "code",
   "execution_count": 11,
   "metadata": {},
   "outputs": [
    {
     "name": "stdout",
     "output_type": "stream",
     "text": [
      "Epoch 1/200\n",
      "51072/51200 [============================>.] - ETA: 0s - loss: 0.2491\n",
      "acc: 95.000000%\n",
      "51200/51200 [==============================] - 141s - loss: 0.2488 - val_loss: 0.1209\n",
      "Epoch 2/200\n",
      "51072/51200 [============================>.] - ETA: 0s - loss: 0.2485\n",
      "acc: 94.531250%\n",
      "51200/51200 [==============================] - 137s - loss: 0.2492 - val_loss: 0.1879\n",
      "Epoch 3/200\n",
      "51072/51200 [============================>.] - ETA: 0s - loss: 0.2293\n",
      "acc: 95.468750%\n",
      "51200/51200 [==============================] - 135s - loss: 0.2291 - val_loss: 0.1573\n",
      "Epoch 4/200\n",
      "51072/51200 [============================>.] - ETA: 0s - loss: 0.2408\n",
      "acc: 94.765625%\n",
      "51200/51200 [==============================] - 134s - loss: 0.2404 - val_loss: 0.1587\n",
      "Epoch 5/200\n",
      "51072/51200 [============================>.] - ETA: 0s - loss: 0.2289\n",
      "acc: 95.937500%\n",
      "51200/51200 [==============================] - 135s - loss: 0.2287 - val_loss: 0.1539\n",
      "Epoch 6/200\n",
      "51072/51200 [============================>.] - ETA: 0s - loss: 0.2353\n",
      "acc: 94.453125%\n",
      "51200/51200 [==============================] - 134s - loss: 0.2351 - val_loss: 0.2237\n",
      "Epoch 7/200\n",
      "51072/51200 [============================>.] - ETA: 0s - loss: 0.2102\n",
      "acc: 95.546875%\n",
      "51200/51200 [==============================] - 134s - loss: 0.2098 - val_loss: 0.1553\n",
      "Epoch 8/200\n",
      "51072/51200 [============================>.] - ETA: 0s - loss: 0.2264\n",
      "acc: 94.609375%\n",
      "51200/51200 [==============================] - 134s - loss: 0.2270 - val_loss: 0.1134\n",
      "Epoch 9/200\n",
      "51072/51200 [============================>.] - ETA: 0s - loss: 0.2237\n",
      "acc: 96.640625%\n",
      "51200/51200 [==============================] - 134s - loss: 0.2235 - val_loss: 0.1764\n",
      "Epoch 10/200\n",
      "51072/51200 [============================>.] - ETA: 0s - loss: 0.2254\n",
      "acc: 96.562500%\n",
      "51200/51200 [==============================] - 134s - loss: 0.2250 - val_loss: 0.1986\n",
      "Epoch 11/200\n",
      "51072/51200 [============================>.] - ETA: 0s - loss: 0.2199\n",
      "acc: 95.937500%\n",
      "51200/51200 [==============================] - 134s - loss: 0.2206 - val_loss: 0.1295\n",
      "Epoch 12/200\n",
      "51072/51200 [============================>.] - ETA: 0s - loss: 0.2067\n",
      "acc: 95.234375%\n",
      "51200/51200 [==============================] - 135s - loss: 0.2065 - val_loss: 0.0965\n",
      "Epoch 13/200\n",
      "51072/51200 [============================>.] - ETA: 0s - loss: 0.2070\n",
      "acc: 97.265625%\n",
      "51200/51200 [==============================] - 134s - loss: 0.2068 - val_loss: 0.1181\n",
      "Epoch 14/200\n",
      "51072/51200 [============================>.] - ETA: 0s - loss: 0.1933\n",
      "acc: 96.562500%\n",
      "51200/51200 [==============================] - 135s - loss: 0.1940 - val_loss: 0.0810\n",
      "Epoch 15/200\n",
      "51072/51200 [============================>.] - ETA: 0s - loss: 0.2007\n",
      "acc: 96.484375%\n",
      "51200/51200 [==============================] - 135s - loss: 0.2005 - val_loss: 0.1317\n",
      "Epoch 16/200\n",
      "51072/51200 [============================>.] - ETA: 0s - loss: 0.1887\n",
      "acc: 96.171875%\n",
      "51200/51200 [==============================] - 135s - loss: 0.1885 - val_loss: 0.1861\n",
      "Epoch 17/200\n",
      "51072/51200 [============================>.] - ETA: 0s - loss: 0.1849\n",
      "acc: 95.468750%\n",
      "51200/51200 [==============================] - 135s - loss: 0.1847 - val_loss: 0.1499\n",
      "Epoch 18/200\n",
      "51072/51200 [============================>.] - ETA: 0s - loss: 0.1991\n",
      "acc: 97.578125%\n",
      "51200/51200 [==============================] - 135s - loss: 0.1987 - val_loss: 0.0829\n",
      "Epoch 19/200\n",
      "51072/51200 [============================>.] - ETA: 0s - loss: 0.1759\n",
      "acc: 97.421875%\n",
      "51200/51200 [==============================] - 136s - loss: 0.1767 - val_loss: 0.1199\n",
      "Epoch 20/200\n",
      "51072/51200 [============================>.] - ETA: 0s - loss: 0.1795\n",
      "acc: 96.953125%\n",
      "51200/51200 [==============================] - 136s - loss: 0.1792 - val_loss: 0.2502\n",
      "Epoch 21/200\n",
      "51072/51200 [============================>.] - ETA: 0s - loss: 0.1783\n",
      "acc: 97.421875%\n",
      "51200/51200 [==============================] - 135s - loss: 0.1780 - val_loss: 0.1116\n",
      "Epoch 22/200\n",
      "51072/51200 [============================>.] - ETA: 0s - loss: 0.1777\n",
      "acc: 97.812500%\n",
      "51200/51200 [==============================] - 135s - loss: 0.1774 - val_loss: 0.1837\n",
      "Epoch 23/200\n",
      "51072/51200 [============================>.] - ETA: 0s - loss: 0.1966\n",
      "acc: 97.734375%\n",
      "51200/51200 [==============================] - 135s - loss: 0.1963 - val_loss: 0.1230\n",
      "Epoch 24/200\n",
      "51072/51200 [============================>.] - ETA: 0s - loss: 0.1885\n",
      "acc: 98.046875%\n",
      "51200/51200 [==============================] - 135s - loss: 0.1894 - val_loss: 0.2255\n",
      "Epoch 25/200\n",
      "51072/51200 [============================>.] - ETA: 0s - loss: 0.1926\n",
      "acc: 98.281250%\n",
      "51200/51200 [==============================] - 136s - loss: 0.1923 - val_loss: 0.1487\n"
     ]
    },
    {
     "data": {
      "text/plain": [
       "<keras.callbacks.History at 0x14c3666d0>"
      ]
     },
     "execution_count": 11,
     "metadata": {},
     "output_type": "execute_result"
    }
   ],
   "source": [
    "model.fit_generator(gen(128), samples_per_epoch=51200, nb_epoch=200,\n",
    "                    callbacks=[EarlyStopping(patience=10), evaluator],\n",
    "                    validation_data=gen(), nb_val_samples=1280)"
   ]
  },
  {
   "cell_type": "code",
   "execution_count": null,
   "metadata": {
    "collapsed": true
   },
   "outputs": [],
   "source": []
  },
  {
   "cell_type": "markdown",
   "metadata": {},
   "source": [
    "# 测试模型,本地数据"
   ]
  },
  {
   "cell_type": "code",
   "execution_count": 6,
   "metadata": {},
   "outputs": [
    {
     "ename": "NameError",
     "evalue": "name 'gen' is not defined",
     "traceback": [
      "\u001b[0;31m---------------------------------------------------------------------------\u001b[0m",
      "\u001b[0;31mNameError\u001b[0m                                 Traceback (most recent call last)",
      "\u001b[0;32m<ipython-input-6-ec8028b3168f>\u001b[0m in \u001b[0;36m<module>\u001b[0;34m()\u001b[0m\n\u001b[1;32m      1\u001b[0m \u001b[0mcharacters2\u001b[0m \u001b[0;34m=\u001b[0m \u001b[0mcharacters\u001b[0m \u001b[0;34m+\u001b[0m \u001b[0;34m' '\u001b[0m\u001b[0;34m\u001b[0m\u001b[0m\n\u001b[0;32m----> 2\u001b[0;31m \u001b[0;34m[\u001b[0m\u001b[0mX_test\u001b[0m\u001b[0;34m,\u001b[0m \u001b[0my_test\u001b[0m\u001b[0;34m,\u001b[0m \u001b[0m_\u001b[0m\u001b[0;34m,\u001b[0m \u001b[0m_\u001b[0m\u001b[0;34m]\u001b[0m\u001b[0;34m,\u001b[0m \u001b[0m_\u001b[0m  \u001b[0;34m=\u001b[0m \u001b[0mnext\u001b[0m\u001b[0;34m(\u001b[0m\u001b[0mgen\u001b[0m\u001b[0;34m(\u001b[0m\u001b[0;36m1\u001b[0m\u001b[0;34m)\u001b[0m\u001b[0;34m)\u001b[0m\u001b[0;34m\u001b[0m\u001b[0m\n\u001b[0m\u001b[1;32m      3\u001b[0m \u001b[0my_pred\u001b[0m \u001b[0;34m=\u001b[0m \u001b[0mbase_model\u001b[0m\u001b[0;34m.\u001b[0m\u001b[0mpredict\u001b[0m\u001b[0;34m(\u001b[0m\u001b[0mX_test\u001b[0m\u001b[0;34m)\u001b[0m\u001b[0;34m\u001b[0m\u001b[0m\n\u001b[1;32m      4\u001b[0m \u001b[0my_pred\u001b[0m \u001b[0;34m=\u001b[0m \u001b[0my_pred\u001b[0m\u001b[0;34m[\u001b[0m\u001b[0;34m:\u001b[0m\u001b[0;34m,\u001b[0m\u001b[0;36m2\u001b[0m\u001b[0;34m:\u001b[0m\u001b[0;34m,\u001b[0m\u001b[0;34m:\u001b[0m\u001b[0;34m]\u001b[0m\u001b[0;34m\u001b[0m\u001b[0m\n\u001b[1;32m      5\u001b[0m \u001b[0mout\u001b[0m \u001b[0;34m=\u001b[0m \u001b[0mK\u001b[0m\u001b[0;34m.\u001b[0m\u001b[0mget_value\u001b[0m\u001b[0;34m(\u001b[0m\u001b[0mK\u001b[0m\u001b[0;34m.\u001b[0m\u001b[0mctc_decode\u001b[0m\u001b[0;34m(\u001b[0m\u001b[0my_pred\u001b[0m\u001b[0;34m,\u001b[0m \u001b[0minput_length\u001b[0m\u001b[0;34m=\u001b[0m\u001b[0mnp\u001b[0m\u001b[0;34m.\u001b[0m\u001b[0mones\u001b[0m\u001b[0;34m(\u001b[0m\u001b[0my_pred\u001b[0m\u001b[0;34m.\u001b[0m\u001b[0mshape\u001b[0m\u001b[0;34m[\u001b[0m\u001b[0;36m0\u001b[0m\u001b[0;34m]\u001b[0m\u001b[0;34m)\u001b[0m\u001b[0;34m*\u001b[0m\u001b[0my_pred\u001b[0m\u001b[0;34m.\u001b[0m\u001b[0mshape\u001b[0m\u001b[0;34m[\u001b[0m\u001b[0;36m1\u001b[0m\u001b[0;34m]\u001b[0m\u001b[0;34m,\u001b[0m \u001b[0;34m)\u001b[0m\u001b[0;34m[\u001b[0m\u001b[0;36m0\u001b[0m\u001b[0;34m]\u001b[0m\u001b[0;34m[\u001b[0m\u001b[0;36m0\u001b[0m\u001b[0;34m]\u001b[0m\u001b[0;34m)\u001b[0m\u001b[0;34m[\u001b[0m\u001b[0;34m:\u001b[0m\u001b[0;34m,\u001b[0m \u001b[0;34m:\u001b[0m\u001b[0;36m4\u001b[0m\u001b[0;34m]\u001b[0m\u001b[0;34m\u001b[0m\u001b[0m\n",
      "\u001b[0;31mNameError\u001b[0m: name 'gen' is not defined"
     ],
     "output_type": "error"
    }
   ],
   "source": [
    "characters2 = characters + ' '\n",
    "[X_test, y_test, _, _], _  = next(gen(1))\n",
    "y_pred = base_model.predict(X_test)\n",
    "y_pred = y_pred[:,2:,:]\n",
    "out = K.get_value(K.ctc_decode(y_pred, input_length=np.ones(y_pred.shape[0])*y_pred.shape[1], )[0][0])[:, :4]\n",
    "out = ''.join([characters[x] for x in out[0]])\n",
    "y_true = ''.join([characters[x] for x in y_test[0]])\n",
    "\n",
    "plt.imshow(X_test[0].transpose(1, 0, 2))\n",
    "plt.title('pred:' + str(out) + '\\ntrue: ' + str(y_true))\n",
    "\n",
    "argmax = np.argmax(y_pred, axis=2)[0]\n",
    "list(zip(argmax, ''.join([characters2[x] for x in argmax])))"
   ]
  },
  {
   "cell_type": "markdown",
   "metadata": {},
   "source": [
    "## 测试数据，ccf验证码"
   ]
  },
  {
   "cell_type": "code",
   "execution_count": 38,
   "metadata": {},
   "outputs": [
    {
     "name": "stdout",
     "output_type": "stream",
     "text": [
      "(1, 170, 80, 3)\n",
      "[ 2 36 36 24 14 36 36 36 36 36 36 36 36 36 36]\n",
      "2OE\n"
     ]
    },
    {
     "data": {
      "text/plain": [
       "[(2, '2'),\n",
       " (36, ' '),\n",
       " (36, ' '),\n",
       " (24, 'O'),\n",
       " (14, 'E'),\n",
       " (36, ' '),\n",
       " (36, ' '),\n",
       " (36, ' '),\n",
       " (36, ' '),\n",
       " (36, ' '),\n",
       " (36, ' '),\n",
       " (36, ' '),\n",
       " (36, ' '),\n",
       " (36, ' '),\n",
       " (36, ' ')]"
      ]
     },
     "execution_count": 38,
     "metadata": {},
     "output_type": "execute_result"
    }
   ],
   "source": [
    "import requests\n",
    "import cv2\n",
    "url=\"http://www.cspro.org/lead/servlet/ImageServlet\"\n",
    "headers={'User-Agent':'Mozilla/5.0 (X11; Linux x86_64) AppleWebKit/537.36 (KHTML, like Gecko) Chrome/63.0.3239.108 Safari/537.36'}\n",
    "a=requests.get(url,headers=headers)\n",
    "with open('image.jpeg',\"wb+\") as image:\n",
    "    image.write(a.content)\n",
    "    image.flush()\n",
    "img=cv2.imread(\"image.jpeg\")\n",
    "img=cv2.resize(img,(170,80), interpolation=cv2.INTER_CUBIC)\n",
    "# x_sou=np.zeros((1,170,80,3))\n",
    "\n",
    "# x_sou=np.column_stack(img)\n",
    "nimg=np.rollaxis(img,0,2)\n",
    "# print(nimg.shape)\n",
    "x_sou=np.broadcast_to(nimg,(1,170,80,3))\n",
    "print(x_sou.shape)\n",
    "# cv2.imshow(\"image\",img)\n",
    "# cv2.waitKey(0)\n",
    "y_pred=base_model.predict(x_sou)\n",
    "y_pred = y_pred[:,2:,:]\n",
    "out = K.get_value(K.ctc_decode(y_pred, input_length=np.ones(y_pred.shape[0])*y_pred.shape[1], )[0][0])[:, :4]\n",
    "out = ''.join([characters[x] for x in out[0]])\n",
    "# print(x_pre)\n",
    "argmax = np.argmax(y_pred, axis=2)[0]\n",
    "print(argmax)\n",
    "str=\"\"\n",
    "str=''.join([characters2[x] for x in argmax])\n",
    "str=str.replace(' ','')\n",
    "print(str)\n",
    "list(zip(argmax, ''.join([characters2[x] for x in argmax])))"
   ]
  },
  {
   "cell_type": "markdown",
   "metadata": {},
   "source": [
    "# 计算模型总体准确率"
   ]
  },
  {
   "cell_type": "code",
   "execution_count": null,
   "metadata": {},
   "outputs": [],
   "source": [
    "evaluate(base_model)"
   ]
  },
  {
   "cell_type": "code",
   "execution_count": 16,
   "metadata": {},
   "outputs": [],
   "source": [
    "model.save('newmodel.h5')"
   ]
  },
  {
   "cell_type": "code",
   "execution_count": null,
   "metadata": {
    "collapsed": true
   },
   "outputs": [],
   "source": []
  }
 ],
 "metadata": {
  "kernelspec": {
   "display_name": "tensorflow",
   "language": "python",
   "name": "tensorflow"
  },
  "language_info": {
   "codemirror_mode": {
    "name": "ipython",
    "version": 3
   },
   "file_extension": ".py",
   "mimetype": "text/x-python",
   "name": "python",
   "nbconvert_exporter": "python",
   "pygments_lexer": "ipython3",
   "version": "3.5.2"
  }
 },
 "nbformat": 4,
 "nbformat_minor": 2
}
